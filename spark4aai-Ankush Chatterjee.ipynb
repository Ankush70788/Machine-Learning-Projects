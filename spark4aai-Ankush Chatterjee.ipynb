{
 "cells": [
  {
   "cell_type": "code",
   "execution_count": 1,
   "id": "dbbe61e0",
   "metadata": {
    "_cell_guid": "b1076dfc-b9ad-4769-8c92-a6c4dae69d19",
    "_uuid": "8f2839f25d086af736a60e9eeb907d3b93b6e0e5",
    "execution": {
     "iopub.execute_input": "2023-10-26T17:44:17.847325Z",
     "iopub.status.busy": "2023-10-26T17:44:17.846940Z",
     "iopub.status.idle": "2023-10-26T17:44:18.280839Z",
     "shell.execute_reply": "2023-10-26T17:44:18.279971Z"
    },
    "papermill": {
     "duration": 0.443281,
     "end_time": "2023-10-26T17:44:18.283397",
     "exception": false,
     "start_time": "2023-10-26T17:44:17.840116",
     "status": "completed"
    },
    "tags": []
   },
   "outputs": [
    {
     "name": "stdout",
     "output_type": "stream",
     "text": [
      "/kaggle/input/monthly-food-price-estimates/WLD_RTP_details_2023-10-02.csv\n",
      "/kaggle/input/monthly-food-price-estimates/ddi-documentation-english_microdata-4483 (1).pdf\n",
      "/kaggle/input/monthly-food-price-estimates/ddi-documentation-english_microdata-4509.pdf\n",
      "/kaggle/input/monthly-food-price-estimates/WLD_RTFP_country_2023-10-02.csv\n",
      "/kaggle/input/spark4ai-prediction/soil_dataset/sample_submission.csv\n",
      "/kaggle/input/spark4ai-prediction/soil_dataset/train.csv\n",
      "/kaggle/input/spark4ai-prediction/soil_dataset/test.csv\n"
     ]
    }
   ],
   "source": [
    "# This Python 3 environment comes with many helpful analytics libraries installed\n",
    "# It is defined by the kaggle/python Docker image: https://github.com/kaggle/docker-python\n",
    "# For example, here's several helpful packages to load\n",
    "\n",
    "import numpy as np # linear algebra\n",
    "import pandas as pd\n",
    "\n",
    "# Input data files are available in the read-only \"../input/\" directory\n",
    "# For example, running this (by clicking run or pressing Shift+Enter) will list all files under the input directory\n",
    "\n",
    "import os\n",
    "for dirname, _, filenames in os.walk('/kaggle/input'):\n",
    "    for filename in filenames:\n",
    "        print(os.path.join(dirname, filename))\n",
    "\n",
    "# You can write up to 20GB to the current directory (/kaggle/working/) that gets preserved as output when you create a version using \"Save & Run All\" \n",
    "# You can also write temporary files to /kaggle/temp/, but they won't be saved outside of the current session"
   ]
  },
  {
   "cell_type": "code",
   "execution_count": 2,
   "id": "e77419dd",
   "metadata": {
    "execution": {
     "iopub.execute_input": "2023-10-26T17:44:18.297693Z",
     "iopub.status.busy": "2023-10-26T17:44:18.296548Z",
     "iopub.status.idle": "2023-10-26T17:44:20.491455Z",
     "shell.execute_reply": "2023-10-26T17:44:20.490428Z"
    },
    "papermill": {
     "duration": 2.203683,
     "end_time": "2023-10-26T17:44:20.494184",
     "exception": false,
     "start_time": "2023-10-26T17:44:18.290501",
     "status": "completed"
    },
    "tags": []
   },
   "outputs": [],
   "source": [
    "from sklearn.ensemble import RandomForestRegressor\n",
    "from sklearn.model_selection import train_test_split\n",
    "df=pd.read_csv('/kaggle/input/spark4ai-prediction/soil_dataset/train.csv')\n",
    "df_part1 = df.iloc[:, :23]\n",
    "df_part2=df.iloc[:,23:]\n",
    "df_part1.drop('Id',axis=1)\n",
    "fd=df.head(101)\n"
   ]
  },
  {
   "cell_type": "code",
   "execution_count": 3,
   "id": "ad08536b",
   "metadata": {
    "execution": {
     "iopub.execute_input": "2023-10-26T17:44:20.505393Z",
     "iopub.status.busy": "2023-10-26T17:44:20.504977Z",
     "iopub.status.idle": "2023-10-26T17:44:20.843245Z",
     "shell.execute_reply": "2023-10-26T17:44:20.841879Z"
    },
    "papermill": {
     "duration": 0.3471,
     "end_time": "2023-10-26T17:44:20.846128",
     "exception": false,
     "start_time": "2023-10-26T17:44:20.499028",
     "status": "completed"
    },
    "tags": []
   },
   "outputs": [
    {
     "name": "stdout",
     "output_type": "stream",
     "text": [
      "Root Mean Squared Error (RMSE): 5.863436062955563\n"
     ]
    }
   ],
   "source": [
    "from sklearn.metrics import mean_squared_error\n",
    "model=RandomForestRegressor()\n",
    "Y=df_part1[['Property_A', 'Property_B', 'Property_C', 'Property_D',\n",
    "       'Property_E', 'Property_F']]\n",
    "\n",
    "X=df_part1.drop(['Property_A', 'Property_B', 'Property_C', 'Property_D',\n",
    "       'Property_E', 'Property_F','Id'],axis=1)\n",
    "X_train, X_test, Y_train, Y_test = train_test_split(X,Y, test_size=0.401, random_state=42) \n",
    "model.fit(X_train, Y_train)\n",
    "y_pred= model.predict(X_test)\n",
    "y_pred1=[]\n",
    "for i in range(101):\n",
    "    a=0\n",
    "    for j in range(6):\n",
    "        a+=y_pred[i][j]\n",
    "    y_pred1.append(a)    \n",
    "predict4=pd.DataFrame({'Id':fd['Id'],'Predicted Properties as a sum':y_pred1})\n",
    "rmse = np.sqrt(mean_squared_error(Y_test, y_pred))\n",
    "print(f\"Root Mean Squared Error (RMSE): {rmse}\")\n",
    "\n",
    "\n"
   ]
  },
  {
   "cell_type": "code",
   "execution_count": 4,
   "id": "913dc8cb",
   "metadata": {
    "execution": {
     "iopub.execute_input": "2023-10-26T17:44:20.858066Z",
     "iopub.status.busy": "2023-10-26T17:44:20.857597Z",
     "iopub.status.idle": "2023-10-26T17:44:21.449718Z",
     "shell.execute_reply": "2023-10-26T17:44:21.448802Z"
    },
    "papermill": {
     "duration": 0.601288,
     "end_time": "2023-10-26T17:44:21.452386",
     "exception": false,
     "start_time": "2023-10-26T17:44:20.851098",
     "status": "completed"
    },
    "tags": []
   },
   "outputs": [
    {
     "name": "stdout",
     "output_type": "stream",
     "text": [
      "Mean Absolute Error: 2.3349042967197113\n",
      "Root Mean Squared Error (RMSE): 6.5580801572483916\n"
     ]
    }
   ],
   "source": [
    "import xgboost as xgb\n",
    "from sklearn.metrics import mean_absolute_error\n",
    "import matplotlib.pyplot as plt\n",
    "from sklearn.metrics import mean_squared_error\n",
    "model = xgb.XGBRegressor()\n",
    "model.fit(X_train, Y_train)\n",
    "y_pred = model.predict(X_test)\n",
    "\n",
    "mae = mean_absolute_error(Y_test, y_pred)\n",
    "print(f\"Mean Absolute Error: {mae}\")\n",
    "y_pred1=[]\n",
    "for i in range(101):\n",
    "    a=0\n",
    "    for j in range(6):\n",
    "        a+=y_pred[i][j]\n",
    "    y_pred1.append(a)    \n",
    "predict=pd.DataFrame({'Id':fd['Id'],'Predicted Properties as a sum':y_pred1})\n",
    "rmse = np.sqrt(mean_squared_error(Y_test, y_pred))\n",
    "print(f\"Root Mean Squared Error (RMSE): {rmse}\")\n",
    "        \n"
   ]
  },
  {
   "cell_type": "code",
   "execution_count": 5,
   "id": "462824c9",
   "metadata": {
    "execution": {
     "iopub.execute_input": "2023-10-26T17:44:21.465070Z",
     "iopub.status.busy": "2023-10-26T17:44:21.464326Z",
     "iopub.status.idle": "2023-10-26T17:44:21.508496Z",
     "shell.execute_reply": "2023-10-26T17:44:21.507028Z"
    },
    "papermill": {
     "duration": 0.05378,
     "end_time": "2023-10-26T17:44:21.511410",
     "exception": false,
     "start_time": "2023-10-26T17:44:21.457630",
     "status": "completed"
    },
    "tags": []
   },
   "outputs": [
    {
     "name": "stdout",
     "output_type": "stream",
     "text": [
      "Root Mean Squared Error (RMSE): 6.876219155962303\n"
     ]
    }
   ],
   "source": [
    "from sklearn.linear_model import LinearRegression\n",
    "from sklearn.metrics import r2_score\n",
    "from sklearn.metrics import mean_squared_error\n",
    "model = LinearRegression()\n",
    "model.fit(X_train, Y_train)\n",
    "y_pred = model.predict(X_test)\n",
    "rmse = np.sqrt(mean_squared_error(Y_test, y_pred))\n",
    "print(f\"Root Mean Squared Error (RMSE): {rmse}\")\n"
   ]
  },
  {
   "cell_type": "code",
   "execution_count": 6,
   "id": "2a20c85f",
   "metadata": {
    "execution": {
     "iopub.execute_input": "2023-10-26T17:44:21.523530Z",
     "iopub.status.busy": "2023-10-26T17:44:21.523137Z",
     "iopub.status.idle": "2023-10-26T17:44:33.199439Z",
     "shell.execute_reply": "2023-10-26T17:44:33.197983Z"
    },
    "papermill": {
     "duration": 11.685349,
     "end_time": "2023-10-26T17:44:33.201835",
     "exception": false,
     "start_time": "2023-10-26T17:44:21.516486",
     "status": "completed"
    },
    "tags": []
   },
   "outputs": [
    {
     "name": "stdout",
     "output_type": "stream",
     "text": [
      "Root Mean Squared Error (RMSE): 6.64721085045546\n"
     ]
    }
   ],
   "source": [
    "X1=df_part2\n",
    "model=RandomForestRegressor()\n",
    "Y1=df_part1[['Property_A', 'Property_B', 'Property_C', 'Property_D',\n",
    "       'Property_E', 'Property_F']]\n",
    "X1_train, X1_test, Y1_train, Y1_test = train_test_split(X1,Y1, test_size=0.401, random_state=42) \n",
    "model.fit(X1_train, Y1_train)\n",
    "predictions = model.predict(X1_test)\n",
    "y_pred2=[]\n",
    "for i in range(101):\n",
    "    a=0\n",
    "    for j in range(6):\n",
    "        a+=predictions[i][j]\n",
    "    y_pred2.append(a)    \n",
    "predict2=pd.DataFrame({'Id':fd['Id'],'Predicted Properties as a sum':y_pred1})\n",
    "rmse = np.sqrt(mean_squared_error(Y1_test,predictions))\n",
    "print(f\"Root Mean Squared Error (RMSE): {rmse}\")\n",
    "\n",
    "\n"
   ]
  },
  {
   "cell_type": "code",
   "execution_count": 7,
   "id": "84c885aa",
   "metadata": {
    "execution": {
     "iopub.execute_input": "2023-10-26T17:44:33.214136Z",
     "iopub.status.busy": "2023-10-26T17:44:33.213707Z",
     "iopub.status.idle": "2023-10-26T17:44:51.364487Z",
     "shell.execute_reply": "2023-10-26T17:44:51.363592Z"
    },
    "papermill": {
     "duration": 18.159752,
     "end_time": "2023-10-26T17:44:51.366952",
     "exception": false,
     "start_time": "2023-10-26T17:44:33.207200",
     "status": "completed"
    },
    "tags": []
   },
   "outputs": [
    {
     "name": "stdout",
     "output_type": "stream",
     "text": [
      "Root Mean Squared Error (RMSE): 6.8833363000768575\n"
     ]
    }
   ],
   "source": [
    "model = xgb.XGBRegressor()\n",
    "model.fit(X1_train, Y1_train)\n",
    "predictions = model.predict(X1_test)\n",
    "y_pred2=[]\n",
    "for i in range(101):\n",
    "    a=0\n",
    "    for j in range(6):\n",
    "        a+=predictions[i][j]\n",
    "    y_pred2.append(a)    \n",
    "predict2=pd.DataFrame({'Id':fd['Id'],'Predicted Properties as a sum':y_pred1})\n",
    "rmse = np.sqrt(mean_squared_error(Y1_test,predictions))\n",
    "print(f\"Root Mean Squared Error (RMSE): {rmse}\")\n"
   ]
  },
  {
   "cell_type": "code",
   "execution_count": 8,
   "id": "2bb7bdda",
   "metadata": {
    "execution": {
     "iopub.execute_input": "2023-10-26T17:44:51.379476Z",
     "iopub.status.busy": "2023-10-26T17:44:51.379096Z",
     "iopub.status.idle": "2023-10-26T17:44:51.578340Z",
     "shell.execute_reply": "2023-10-26T17:44:51.576901Z"
    },
    "papermill": {
     "duration": 0.209739,
     "end_time": "2023-10-26T17:44:51.582384",
     "exception": false,
     "start_time": "2023-10-26T17:44:51.372645",
     "status": "completed"
    },
    "tags": []
   },
   "outputs": [
    {
     "name": "stdout",
     "output_type": "stream",
     "text": [
      "Root Mean Squared Error (RMSE): 5.869515250532215\n"
     ]
    },
    {
     "data": {
      "text/html": [
       "<div>\n",
       "<style scoped>\n",
       "    .dataframe tbody tr th:only-of-type {\n",
       "        vertical-align: middle;\n",
       "    }\n",
       "\n",
       "    .dataframe tbody tr th {\n",
       "        vertical-align: top;\n",
       "    }\n",
       "\n",
       "    .dataframe thead th {\n",
       "        text-align: right;\n",
       "    }\n",
       "</style>\n",
       "<table border=\"1\" class=\"dataframe\">\n",
       "  <thead>\n",
       "    <tr style=\"text-align: right;\">\n",
       "      <th></th>\n",
       "      <th>Id</th>\n",
       "      <th>Predicted Properties as a sum</th>\n",
       "    </tr>\n",
       "  </thead>\n",
       "  <tbody>\n",
       "    <tr>\n",
       "      <th>0</th>\n",
       "      <td>1</td>\n",
       "      <td>108.251050</td>\n",
       "    </tr>\n",
       "    <tr>\n",
       "      <th>1</th>\n",
       "      <td>2</td>\n",
       "      <td>104.419890</td>\n",
       "    </tr>\n",
       "    <tr>\n",
       "      <th>2</th>\n",
       "      <td>3</td>\n",
       "      <td>111.975738</td>\n",
       "    </tr>\n",
       "    <tr>\n",
       "      <th>3</th>\n",
       "      <td>4</td>\n",
       "      <td>106.258805</td>\n",
       "    </tr>\n",
       "    <tr>\n",
       "      <th>4</th>\n",
       "      <td>5</td>\n",
       "      <td>100.942645</td>\n",
       "    </tr>\n",
       "    <tr>\n",
       "      <th>...</th>\n",
       "      <td>...</td>\n",
       "      <td>...</td>\n",
       "    </tr>\n",
       "    <tr>\n",
       "      <th>96</th>\n",
       "      <td>97</td>\n",
       "      <td>103.399695</td>\n",
       "    </tr>\n",
       "    <tr>\n",
       "      <th>97</th>\n",
       "      <td>98</td>\n",
       "      <td>109.673236</td>\n",
       "    </tr>\n",
       "    <tr>\n",
       "      <th>98</th>\n",
       "      <td>99</td>\n",
       "      <td>111.694479</td>\n",
       "    </tr>\n",
       "    <tr>\n",
       "      <th>99</th>\n",
       "      <td>100</td>\n",
       "      <td>109.899300</td>\n",
       "    </tr>\n",
       "    <tr>\n",
       "      <th>100</th>\n",
       "      <td>101</td>\n",
       "      <td>108.894794</td>\n",
       "    </tr>\n",
       "  </tbody>\n",
       "</table>\n",
       "<p>101 rows × 2 columns</p>\n",
       "</div>"
      ],
      "text/plain": [
       "      Id  Predicted Properties as a sum\n",
       "0      1                     108.251050\n",
       "1      2                     104.419890\n",
       "2      3                     111.975738\n",
       "3      4                     106.258805\n",
       "4      5                     100.942645\n",
       "..   ...                            ...\n",
       "96    97                     103.399695\n",
       "97    98                     109.673236\n",
       "98    99                     111.694479\n",
       "99   100                     109.899300\n",
       "100  101                     108.894794\n",
       "\n",
       "[101 rows x 2 columns]"
      ]
     },
     "execution_count": 8,
     "metadata": {},
     "output_type": "execute_result"
    }
   ],
   "source": [
    "model = LinearRegression()\n",
    "model.fit(X1_train, Y1_train)\n",
    "predictions = model.predict(X1_test)\n",
    "y_pred2=[]\n",
    "for i in range(101):\n",
    "    a=0\n",
    "    for j in range(6):\n",
    "        a+=predictions[i][j]\n",
    "    y_pred2.append(a)    \n",
    "predict3=pd.DataFrame({'Id':fd['Id'],'Predicted Properties as a sum':y_pred1})\n",
    "rmse = np.sqrt(mean_squared_error(Y1_test,predictions))\n",
    "print(f\"Root Mean Squared Error (RMSE): {rmse}\")\n",
    "predict3\n"
   ]
  },
  {
   "cell_type": "code",
   "execution_count": 9,
   "id": "004c5f76",
   "metadata": {
    "execution": {
     "iopub.execute_input": "2023-10-26T17:44:51.608468Z",
     "iopub.status.busy": "2023-10-26T17:44:51.607826Z",
     "iopub.status.idle": "2023-10-26T17:44:51.642122Z",
     "shell.execute_reply": "2023-10-26T17:44:51.640336Z"
    },
    "papermill": {
     "duration": 0.052717,
     "end_time": "2023-10-26T17:44:51.647074",
     "exception": false,
     "start_time": "2023-10-26T17:44:51.594357",
     "status": "completed"
    },
    "tags": []
   },
   "outputs": [
    {
     "data": {
      "text/html": [
       "<div>\n",
       "<style scoped>\n",
       "    .dataframe tbody tr th:only-of-type {\n",
       "        vertical-align: middle;\n",
       "    }\n",
       "\n",
       "    .dataframe tbody tr th {\n",
       "        vertical-align: top;\n",
       "    }\n",
       "\n",
       "    .dataframe thead th {\n",
       "        text-align: right;\n",
       "    }\n",
       "</style>\n",
       "<table border=\"1\" class=\"dataframe\">\n",
       "  <thead>\n",
       "    <tr style=\"text-align: right;\">\n",
       "      <th></th>\n",
       "      <th>Id</th>\n",
       "      <th>Predicted Properties as a sum</th>\n",
       "    </tr>\n",
       "  </thead>\n",
       "  <tbody>\n",
       "    <tr>\n",
       "      <th>0</th>\n",
       "      <td>1</td>\n",
       "      <td>108.250832</td>\n",
       "    </tr>\n",
       "    <tr>\n",
       "      <th>1</th>\n",
       "      <td>2</td>\n",
       "      <td>104.469338</td>\n",
       "    </tr>\n",
       "    <tr>\n",
       "      <th>2</th>\n",
       "      <td>3</td>\n",
       "      <td>111.921538</td>\n",
       "    </tr>\n",
       "    <tr>\n",
       "      <th>3</th>\n",
       "      <td>4</td>\n",
       "      <td>106.288503</td>\n",
       "    </tr>\n",
       "    <tr>\n",
       "      <th>4</th>\n",
       "      <td>5</td>\n",
       "      <td>101.051144</td>\n",
       "    </tr>\n",
       "    <tr>\n",
       "      <th>...</th>\n",
       "      <td>...</td>\n",
       "      <td>...</td>\n",
       "    </tr>\n",
       "    <tr>\n",
       "      <th>96</th>\n",
       "      <td>97</td>\n",
       "      <td>103.475132</td>\n",
       "    </tr>\n",
       "    <tr>\n",
       "      <th>97</th>\n",
       "      <td>98</td>\n",
       "      <td>109.655107</td>\n",
       "    </tr>\n",
       "    <tr>\n",
       "      <th>98</th>\n",
       "      <td>99</td>\n",
       "      <td>111.642947</td>\n",
       "    </tr>\n",
       "    <tr>\n",
       "      <th>99</th>\n",
       "      <td>100</td>\n",
       "      <td>109.874625</td>\n",
       "    </tr>\n",
       "    <tr>\n",
       "      <th>100</th>\n",
       "      <td>101</td>\n",
       "      <td>108.886715</td>\n",
       "    </tr>\n",
       "  </tbody>\n",
       "</table>\n",
       "<p>101 rows × 2 columns</p>\n",
       "</div>"
      ],
      "text/plain": [
       "      Id  Predicted Properties as a sum\n",
       "0      1                     108.250832\n",
       "1      2                     104.469338\n",
       "2      3                     111.921538\n",
       "3      4                     106.288503\n",
       "4      5                     101.051144\n",
       "..   ...                            ...\n",
       "96    97                     103.475132\n",
       "97    98                     109.655107\n",
       "98    99                     111.642947\n",
       "99   100                     109.874625\n",
       "100  101                     108.886715\n",
       "\n",
       "[101 rows x 2 columns]"
      ]
     },
     "execution_count": 9,
     "metadata": {},
     "output_type": "execute_result"
    }
   ],
   "source": [
    "bias_1 = 1.97\n",
    "bias_2 = 0.03\n",
    "fused_data = (bias_1 * predict3 + bias_2 * predict4) / (bias_1 + bias_2)\n",
    "fused_data['Id']=predict3['Id']\n",
    "fused_data\n",
    "\n",
    "\n"
   ]
  },
  {
   "cell_type": "code",
   "execution_count": 10,
   "id": "4866de6d",
   "metadata": {
    "execution": {
     "iopub.execute_input": "2023-10-26T17:44:51.663145Z",
     "iopub.status.busy": "2023-10-26T17:44:51.662745Z",
     "iopub.status.idle": "2023-10-26T17:44:51.671093Z",
     "shell.execute_reply": "2023-10-26T17:44:51.670156Z"
    },
    "papermill": {
     "duration": 0.017789,
     "end_time": "2023-10-26T17:44:51.673562",
     "exception": false,
     "start_time": "2023-10-26T17:44:51.655773",
     "status": "completed"
    },
    "tags": []
   },
   "outputs": [],
   "source": [
    "csv_file_path = ' my_dataframe.csv' \n",
    "fused_data.to_csv(csv_file_path, index=False)"
   ]
  },
  {
   "cell_type": "code",
   "execution_count": null,
   "id": "e6630eef",
   "metadata": {
    "papermill": {
     "duration": 0.005742,
     "end_time": "2023-10-26T17:44:51.685489",
     "exception": false,
     "start_time": "2023-10-26T17:44:51.679747",
     "status": "completed"
    },
    "tags": []
   },
   "outputs": [],
   "source": []
  }
 ],
 "metadata": {
  "kernelspec": {
   "display_name": "Python 3",
   "language": "python",
   "name": "python3"
  },
  "language_info": {
   "codemirror_mode": {
    "name": "ipython",
    "version": 3
   },
   "file_extension": ".py",
   "mimetype": "text/x-python",
   "name": "python",
   "nbconvert_exporter": "python",
   "pygments_lexer": "ipython3",
   "version": "3.10.12"
  },
  "papermill": {
   "default_parameters": {},
   "duration": 38.312971,
   "end_time": "2023-10-26T17:44:52.312940",
   "environment_variables": {},
   "exception": null,
   "input_path": "__notebook__.ipynb",
   "output_path": "__notebook__.ipynb",
   "parameters": {},
   "start_time": "2023-10-26T17:44:13.999969",
   "version": "2.4.0"
  }
 },
 "nbformat": 4,
 "nbformat_minor": 5
}
