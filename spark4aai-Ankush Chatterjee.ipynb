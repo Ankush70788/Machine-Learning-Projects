{
 "cells": [
  {
   "cell_type": "code",
   "execution_count": 1,
   "id": "5cb5bb32",
   "metadata": {
    "_cell_guid": "b1076dfc-b9ad-4769-8c92-a6c4dae69d19",
    "_uuid": "8f2839f25d086af736a60e9eeb907d3b93b6e0e5",
    "execution": {
     "iopub.execute_input": "2023-10-26T17:51:28.770905Z",
     "iopub.status.busy": "2023-10-26T17:51:28.770395Z",
     "iopub.status.idle": "2023-10-26T17:51:29.699615Z",
     "shell.execute_reply": "2023-10-26T17:51:29.698195Z"
    },
    "papermill": {
     "duration": 0.939415,
     "end_time": "2023-10-26T17:51:29.702632",
     "exception": false,
     "start_time": "2023-10-26T17:51:28.763217",
     "status": "completed"
    },
    "tags": []
   },
   "outputs": [
    {
     "name": "stdout",
     "output_type": "stream",
     "text": [
      "/kaggle/input/monthly-food-price-estimates/WLD_RTP_details_2023-10-02.csv\n",
      "/kaggle/input/monthly-food-price-estimates/ddi-documentation-english_microdata-4483 (1).pdf\n",
      "/kaggle/input/monthly-food-price-estimates/ddi-documentation-english_microdata-4509.pdf\n",
      "/kaggle/input/monthly-food-price-estimates/WLD_RTFP_country_2023-10-02.csv\n",
      "/kaggle/input/spark4ai-prediction/soil_dataset/sample_submission.csv\n",
      "/kaggle/input/spark4ai-prediction/soil_dataset/train.csv\n",
      "/kaggle/input/spark4ai-prediction/soil_dataset/test.csv\n"
     ]
    }
   ],
   "source": [
    "# This Python 3 environment comes with many helpful analytics libraries installed\n",
    "# It is defined by the kaggle/python Docker image: https://github.com/kaggle/docker-python\n",
    "# For example, here's several helpful packages to load\n",
    "\n",
    "import numpy as np # linear algebra\n",
    "import pandas as pd\n",
    "\n",
    "# Input data files are available in the read-only \"../input/\" directory\n",
    "# For example, running this (by clicking run or pressing Shift+Enter) will list all files under the input directory\n",
    "\n",
    "import os\n",
    "for dirname, _, filenames in os.walk('/kaggle/input'):\n",
    "    for filename in filenames:\n",
    "        print(os.path.join(dirname, filename))\n",
    "\n",
    "# You can write up to 20GB to the current directory (/kaggle/working/) that gets preserved as output when you create a version using \"Save & Run All\" \n",
    "# You can also write temporary files to /kaggle/temp/, but they won't be saved outside of the current session"
   ]
  },
  {
   "cell_type": "code",
   "execution_count": 2,
   "id": "0e205bec",
   "metadata": {
    "execution": {
     "iopub.execute_input": "2023-10-26T17:51:29.718101Z",
     "iopub.status.busy": "2023-10-26T17:51:29.716932Z",
     "iopub.status.idle": "2023-10-26T17:51:32.145831Z",
     "shell.execute_reply": "2023-10-26T17:51:32.144641Z"
    },
    "papermill": {
     "duration": 2.438031,
     "end_time": "2023-10-26T17:51:32.148733",
     "exception": false,
     "start_time": "2023-10-26T17:51:29.710702",
     "status": "completed"
    },
    "tags": []
   },
   "outputs": [],
   "source": [
    "from sklearn.ensemble import RandomForestRegressor\n",
    "from sklearn.model_selection import train_test_split\n",
    "df=pd.read_csv('/kaggle/input/spark4ai-prediction/soil_dataset/train.csv')\n",
    "df_part1 = df.iloc[:, :23]\n",
    "df_part2=df.iloc[:,23:]\n",
    "df_part1.drop('Id',axis=1)\n",
    "fd=df.head(101)\n"
   ]
  },
  {
   "cell_type": "code",
   "execution_count": 3,
   "id": "1cc5a159",
   "metadata": {
    "execution": {
     "iopub.execute_input": "2023-10-26T17:51:32.161111Z",
     "iopub.status.busy": "2023-10-26T17:51:32.160069Z",
     "iopub.status.idle": "2023-10-26T17:51:32.505944Z",
     "shell.execute_reply": "2023-10-26T17:51:32.504279Z"
    },
    "papermill": {
     "duration": 0.355107,
     "end_time": "2023-10-26T17:51:32.508879",
     "exception": false,
     "start_time": "2023-10-26T17:51:32.153772",
     "status": "completed"
    },
    "tags": []
   },
   "outputs": [
    {
     "name": "stdout",
     "output_type": "stream",
     "text": [
      "Root Mean Squared Error (RMSE): 5.6304035329446736\n"
     ]
    }
   ],
   "source": [
    "from sklearn.metrics import mean_squared_error\n",
    "model=RandomForestRegressor()\n",
    "Y=df_part1[['Property_A', 'Property_B', 'Property_C', 'Property_D',\n",
    "       'Property_E', 'Property_F']]\n",
    "\n",
    "X=df_part1.drop(['Property_A', 'Property_B', 'Property_C', 'Property_D',\n",
    "       'Property_E', 'Property_F','Id'],axis=1)\n",
    "X_train, X_test, Y_train, Y_test = train_test_split(X,Y, test_size=0.401, random_state=42) \n",
    "model.fit(X_train, Y_train)\n",
    "y_pred= model.predict(X_test)\n",
    "y_pred1=[]\n",
    "for i in range(101):\n",
    "    a=0\n",
    "    for j in range(6):\n",
    "        a+=y_pred[i][j]\n",
    "    y_pred1.append(a)    \n",
    "predict4=pd.DataFrame({'Id':fd['Id'],'Predicted':y_pred1})\n",
    "rmse = np.sqrt(mean_squared_error(Y_test, y_pred))\n",
    "print(f\"Root Mean Squared Error (RMSE): {rmse}\")\n",
    "\n",
    "\n"
   ]
  },
  {
   "cell_type": "code",
   "execution_count": 4,
   "id": "33075e80",
   "metadata": {
    "execution": {
     "iopub.execute_input": "2023-10-26T17:51:32.520442Z",
     "iopub.status.busy": "2023-10-26T17:51:32.519989Z",
     "iopub.status.idle": "2023-10-26T17:51:33.085068Z",
     "shell.execute_reply": "2023-10-26T17:51:33.084056Z"
    },
    "papermill": {
     "duration": 0.573902,
     "end_time": "2023-10-26T17:51:33.087681",
     "exception": false,
     "start_time": "2023-10-26T17:51:32.513779",
     "status": "completed"
    },
    "tags": []
   },
   "outputs": [
    {
     "name": "stdout",
     "output_type": "stream",
     "text": [
      "Mean Absolute Error: 2.3349042967197113\n",
      "Root Mean Squared Error (RMSE): 6.5580801572483916\n"
     ]
    }
   ],
   "source": [
    "import xgboost as xgb\n",
    "from sklearn.metrics import mean_absolute_error\n",
    "import matplotlib.pyplot as plt\n",
    "from sklearn.metrics import mean_squared_error\n",
    "model = xgb.XGBRegressor()\n",
    "model.fit(X_train, Y_train)\n",
    "y_pred = model.predict(X_test)\n",
    "\n",
    "mae = mean_absolute_error(Y_test, y_pred)\n",
    "print(f\"Mean Absolute Error: {mae}\")\n",
    "y_pred1=[]\n",
    "for i in range(101):\n",
    "    a=0\n",
    "    for j in range(6):\n",
    "        a+=y_pred[i][j]\n",
    "    y_pred1.append(a)    \n",
    "predict=pd.DataFrame({'Id':fd['Id'],'Predicted':y_pred1})\n",
    "rmse = np.sqrt(mean_squared_error(Y_test, y_pred))\n",
    "print(f\"Root Mean Squared Error (RMSE): {rmse}\")\n",
    "        \n"
   ]
  },
  {
   "cell_type": "code",
   "execution_count": 5,
   "id": "8634759a",
   "metadata": {
    "execution": {
     "iopub.execute_input": "2023-10-26T17:51:33.099803Z",
     "iopub.status.busy": "2023-10-26T17:51:33.099431Z",
     "iopub.status.idle": "2023-10-26T17:51:33.138774Z",
     "shell.execute_reply": "2023-10-26T17:51:33.137255Z"
    },
    "papermill": {
     "duration": 0.048316,
     "end_time": "2023-10-26T17:51:33.141481",
     "exception": false,
     "start_time": "2023-10-26T17:51:33.093165",
     "status": "completed"
    },
    "tags": []
   },
   "outputs": [
    {
     "name": "stdout",
     "output_type": "stream",
     "text": [
      "Root Mean Squared Error (RMSE): 6.876219155962303\n"
     ]
    }
   ],
   "source": [
    "from sklearn.linear_model import LinearRegression\n",
    "from sklearn.metrics import r2_score\n",
    "from sklearn.metrics import mean_squared_error\n",
    "model = LinearRegression()\n",
    "model.fit(X_train, Y_train)\n",
    "y_pred = model.predict(X_test)\n",
    "rmse = np.sqrt(mean_squared_error(Y_test, y_pred))\n",
    "print(f\"Root Mean Squared Error (RMSE): {rmse}\")\n"
   ]
  },
  {
   "cell_type": "code",
   "execution_count": 6,
   "id": "417a7439",
   "metadata": {
    "execution": {
     "iopub.execute_input": "2023-10-26T17:51:33.153559Z",
     "iopub.status.busy": "2023-10-26T17:51:33.153144Z",
     "iopub.status.idle": "2023-10-26T17:51:44.983971Z",
     "shell.execute_reply": "2023-10-26T17:51:44.982447Z"
    },
    "papermill": {
     "duration": 11.840428,
     "end_time": "2023-10-26T17:51:44.986942",
     "exception": false,
     "start_time": "2023-10-26T17:51:33.146514",
     "status": "completed"
    },
    "tags": []
   },
   "outputs": [
    {
     "name": "stdout",
     "output_type": "stream",
     "text": [
      "Root Mean Squared Error (RMSE): 6.61615600885313\n"
     ]
    }
   ],
   "source": [
    "X1=df_part2\n",
    "model=RandomForestRegressor()\n",
    "Y1=df_part1[['Property_A', 'Property_B', 'Property_C', 'Property_D',\n",
    "       'Property_E', 'Property_F']]\n",
    "X1_train, X1_test, Y1_train, Y1_test = train_test_split(X1,Y1, test_size=0.401, random_state=42) \n",
    "model.fit(X1_train, Y1_train)\n",
    "predictions = model.predict(X1_test)\n",
    "y_pred2=[]\n",
    "for i in range(101):\n",
    "    a=0\n",
    "    for j in range(6):\n",
    "        a+=predictions[i][j]\n",
    "    y_pred2.append(a)    \n",
    "predict2=pd.DataFrame({'Id':fd['Id'],'Predicted':y_pred1})\n",
    "rmse = np.sqrt(mean_squared_error(Y1_test,predictions))\n",
    "print(f\"Root Mean Squared Error (RMSE): {rmse}\")\n",
    "\n",
    "\n"
   ]
  },
  {
   "cell_type": "code",
   "execution_count": 7,
   "id": "53628952",
   "metadata": {
    "execution": {
     "iopub.execute_input": "2023-10-26T17:51:45.001213Z",
     "iopub.status.busy": "2023-10-26T17:51:45.000485Z",
     "iopub.status.idle": "2023-10-26T17:52:02.218263Z",
     "shell.execute_reply": "2023-10-26T17:52:02.217259Z"
    },
    "papermill": {
     "duration": 17.2287,
     "end_time": "2023-10-26T17:52:02.221353",
     "exception": false,
     "start_time": "2023-10-26T17:51:44.992653",
     "status": "completed"
    },
    "tags": []
   },
   "outputs": [
    {
     "name": "stdout",
     "output_type": "stream",
     "text": [
      "Root Mean Squared Error (RMSE): 6.8833363000768575\n"
     ]
    }
   ],
   "source": [
    "model = xgb.XGBRegressor()\n",
    "model.fit(X1_train, Y1_train)\n",
    "predictions = model.predict(X1_test)\n",
    "y_pred2=[]\n",
    "for i in range(101):\n",
    "    a=0\n",
    "    for j in range(6):\n",
    "        a+=predictions[i][j]\n",
    "    y_pred2.append(a)    \n",
    "predict2=pd.DataFrame({'Id':fd['Id'],'Predicted':y_pred1})\n",
    "rmse = np.sqrt(mean_squared_error(Y1_test,predictions))\n",
    "print(f\"Root Mean Squared Error (RMSE): {rmse}\")\n"
   ]
  },
  {
   "cell_type": "code",
   "execution_count": 8,
   "id": "08199df7",
   "metadata": {
    "execution": {
     "iopub.execute_input": "2023-10-26T17:52:02.235485Z",
     "iopub.status.busy": "2023-10-26T17:52:02.235080Z",
     "iopub.status.idle": "2023-10-26T17:52:02.453165Z",
     "shell.execute_reply": "2023-10-26T17:52:02.451477Z"
    },
    "papermill": {
     "duration": 0.229917,
     "end_time": "2023-10-26T17:52:02.457536",
     "exception": false,
     "start_time": "2023-10-26T17:52:02.227619",
     "status": "completed"
    },
    "tags": []
   },
   "outputs": [
    {
     "name": "stdout",
     "output_type": "stream",
     "text": [
      "Root Mean Squared Error (RMSE): 5.869515250532215\n"
     ]
    },
    {
     "data": {
      "text/html": [
       "<div>\n",
       "<style scoped>\n",
       "    .dataframe tbody tr th:only-of-type {\n",
       "        vertical-align: middle;\n",
       "    }\n",
       "\n",
       "    .dataframe tbody tr th {\n",
       "        vertical-align: top;\n",
       "    }\n",
       "\n",
       "    .dataframe thead th {\n",
       "        text-align: right;\n",
       "    }\n",
       "</style>\n",
       "<table border=\"1\" class=\"dataframe\">\n",
       "  <thead>\n",
       "    <tr style=\"text-align: right;\">\n",
       "      <th></th>\n",
       "      <th>Id</th>\n",
       "      <th>Predicted</th>\n",
       "    </tr>\n",
       "  </thead>\n",
       "  <tbody>\n",
       "    <tr>\n",
       "      <th>0</th>\n",
       "      <td>1</td>\n",
       "      <td>108.251050</td>\n",
       "    </tr>\n",
       "    <tr>\n",
       "      <th>1</th>\n",
       "      <td>2</td>\n",
       "      <td>104.419890</td>\n",
       "    </tr>\n",
       "    <tr>\n",
       "      <th>2</th>\n",
       "      <td>3</td>\n",
       "      <td>111.975738</td>\n",
       "    </tr>\n",
       "    <tr>\n",
       "      <th>3</th>\n",
       "      <td>4</td>\n",
       "      <td>106.258805</td>\n",
       "    </tr>\n",
       "    <tr>\n",
       "      <th>4</th>\n",
       "      <td>5</td>\n",
       "      <td>100.942645</td>\n",
       "    </tr>\n",
       "    <tr>\n",
       "      <th>...</th>\n",
       "      <td>...</td>\n",
       "      <td>...</td>\n",
       "    </tr>\n",
       "    <tr>\n",
       "      <th>96</th>\n",
       "      <td>97</td>\n",
       "      <td>103.399695</td>\n",
       "    </tr>\n",
       "    <tr>\n",
       "      <th>97</th>\n",
       "      <td>98</td>\n",
       "      <td>109.673236</td>\n",
       "    </tr>\n",
       "    <tr>\n",
       "      <th>98</th>\n",
       "      <td>99</td>\n",
       "      <td>111.694479</td>\n",
       "    </tr>\n",
       "    <tr>\n",
       "      <th>99</th>\n",
       "      <td>100</td>\n",
       "      <td>109.899300</td>\n",
       "    </tr>\n",
       "    <tr>\n",
       "      <th>100</th>\n",
       "      <td>101</td>\n",
       "      <td>108.894794</td>\n",
       "    </tr>\n",
       "  </tbody>\n",
       "</table>\n",
       "<p>101 rows × 2 columns</p>\n",
       "</div>"
      ],
      "text/plain": [
       "      Id   Predicted\n",
       "0      1  108.251050\n",
       "1      2  104.419890\n",
       "2      3  111.975738\n",
       "3      4  106.258805\n",
       "4      5  100.942645\n",
       "..   ...         ...\n",
       "96    97  103.399695\n",
       "97    98  109.673236\n",
       "98    99  111.694479\n",
       "99   100  109.899300\n",
       "100  101  108.894794\n",
       "\n",
       "[101 rows x 2 columns]"
      ]
     },
     "execution_count": 8,
     "metadata": {},
     "output_type": "execute_result"
    }
   ],
   "source": [
    "model = LinearRegression()\n",
    "model.fit(X1_train, Y1_train)\n",
    "predictions = model.predict(X1_test)\n",
    "y_pred2=[]\n",
    "for i in range(101):\n",
    "    a=0\n",
    "    for j in range(6):\n",
    "        a+=predictions[i][j]\n",
    "    y_pred2.append(a)    \n",
    "predict3=pd.DataFrame({'Id':fd['Id'],'Predicted':y_pred1})\n",
    "rmse = np.sqrt(mean_squared_error(Y1_test,predictions))\n",
    "print(f\"Root Mean Squared Error (RMSE): {rmse}\")\n",
    "predict3\n"
   ]
  },
  {
   "cell_type": "code",
   "execution_count": 9,
   "id": "0ce3b5f0",
   "metadata": {
    "execution": {
     "iopub.execute_input": "2023-10-26T17:52:02.484618Z",
     "iopub.status.busy": "2023-10-26T17:52:02.482843Z",
     "iopub.status.idle": "2023-10-26T17:52:02.513073Z",
     "shell.execute_reply": "2023-10-26T17:52:02.511511Z"
    },
    "papermill": {
     "duration": 0.047966,
     "end_time": "2023-10-26T17:52:02.517264",
     "exception": false,
     "start_time": "2023-10-26T17:52:02.469298",
     "status": "completed"
    },
    "tags": []
   },
   "outputs": [
    {
     "data": {
      "text/html": [
       "<div>\n",
       "<style scoped>\n",
       "    .dataframe tbody tr th:only-of-type {\n",
       "        vertical-align: middle;\n",
       "    }\n",
       "\n",
       "    .dataframe tbody tr th {\n",
       "        vertical-align: top;\n",
       "    }\n",
       "\n",
       "    .dataframe thead th {\n",
       "        text-align: right;\n",
       "    }\n",
       "</style>\n",
       "<table border=\"1\" class=\"dataframe\">\n",
       "  <thead>\n",
       "    <tr style=\"text-align: right;\">\n",
       "      <th></th>\n",
       "      <th>Id</th>\n",
       "      <th>Predicted</th>\n",
       "    </tr>\n",
       "  </thead>\n",
       "  <tbody>\n",
       "    <tr>\n",
       "      <th>0</th>\n",
       "      <td>1</td>\n",
       "      <td>108.249832</td>\n",
       "    </tr>\n",
       "    <tr>\n",
       "      <th>1</th>\n",
       "      <td>2</td>\n",
       "      <td>104.468702</td>\n",
       "    </tr>\n",
       "    <tr>\n",
       "      <th>2</th>\n",
       "      <td>3</td>\n",
       "      <td>111.921062</td>\n",
       "    </tr>\n",
       "    <tr>\n",
       "      <th>3</th>\n",
       "      <td>4</td>\n",
       "      <td>106.288371</td>\n",
       "    </tr>\n",
       "    <tr>\n",
       "      <th>4</th>\n",
       "      <td>5</td>\n",
       "      <td>101.050534</td>\n",
       "    </tr>\n",
       "    <tr>\n",
       "      <th>...</th>\n",
       "      <td>...</td>\n",
       "      <td>...</td>\n",
       "    </tr>\n",
       "    <tr>\n",
       "      <th>96</th>\n",
       "      <td>97</td>\n",
       "      <td>103.471265</td>\n",
       "    </tr>\n",
       "    <tr>\n",
       "      <th>97</th>\n",
       "      <td>98</td>\n",
       "      <td>109.656366</td>\n",
       "    </tr>\n",
       "    <tr>\n",
       "      <th>98</th>\n",
       "      <td>99</td>\n",
       "      <td>111.646573</td>\n",
       "    </tr>\n",
       "    <tr>\n",
       "      <th>99</th>\n",
       "      <td>100</td>\n",
       "      <td>109.874449</td>\n",
       "    </tr>\n",
       "    <tr>\n",
       "      <th>100</th>\n",
       "      <td>101</td>\n",
       "      <td>108.884838</td>\n",
       "    </tr>\n",
       "  </tbody>\n",
       "</table>\n",
       "<p>101 rows × 2 columns</p>\n",
       "</div>"
      ],
      "text/plain": [
       "      Id   Predicted\n",
       "0      1  108.249832\n",
       "1      2  104.468702\n",
       "2      3  111.921062\n",
       "3      4  106.288371\n",
       "4      5  101.050534\n",
       "..   ...         ...\n",
       "96    97  103.471265\n",
       "97    98  109.656366\n",
       "98    99  111.646573\n",
       "99   100  109.874449\n",
       "100  101  108.884838\n",
       "\n",
       "[101 rows x 2 columns]"
      ]
     },
     "execution_count": 9,
     "metadata": {},
     "output_type": "execute_result"
    }
   ],
   "source": [
    "bias_1 = 1.97\n",
    "bias_2 = 0.03\n",
    "fused_data = (bias_1 * predict3 + bias_2 * predict4) / (bias_1 + bias_2)\n",
    "fused_data['Id']=predict3['Id']\n",
    "fused_data\n",
    "\n",
    "\n"
   ]
  },
  {
   "cell_type": "code",
   "execution_count": 10,
   "id": "beaf5ae5",
   "metadata": {
    "execution": {
     "iopub.execute_input": "2023-10-26T17:52:02.533583Z",
     "iopub.status.busy": "2023-10-26T17:52:02.533162Z",
     "iopub.status.idle": "2023-10-26T17:52:02.542313Z",
     "shell.execute_reply": "2023-10-26T17:52:02.541364Z"
    },
    "papermill": {
     "duration": 0.019435,
     "end_time": "2023-10-26T17:52:02.545333",
     "exception": false,
     "start_time": "2023-10-26T17:52:02.525898",
     "status": "completed"
    },
    "tags": []
   },
   "outputs": [],
   "source": [
    "csv_file_path = ' my_dataframe.csv' \n",
    "fused_data.to_csv(csv_file_path, index=False)"
   ]
  },
  {
   "cell_type": "code",
   "execution_count": null,
   "id": "7613b49f",
   "metadata": {
    "papermill": {
     "duration": 0.005493,
     "end_time": "2023-10-26T17:52:02.556828",
     "exception": false,
     "start_time": "2023-10-26T17:52:02.551335",
     "status": "completed"
    },
    "tags": []
   },
   "outputs": [],
   "source": []
  }
 ],
 "metadata": {
  "kernelspec": {
   "display_name": "Python 3",
   "language": "python",
   "name": "python3"
  },
  "language_info": {
   "codemirror_mode": {
    "name": "ipython",
    "version": 3
   },
   "file_extension": ".py",
   "mimetype": "text/x-python",
   "name": "python",
   "nbconvert_exporter": "python",
   "pygments_lexer": "ipython3",
   "version": "3.10.12"
  },
  "papermill": {
   "default_parameters": {},
   "duration": 39.500017,
   "end_time": "2023-10-26T17:52:03.286217",
   "environment_variables": {},
   "exception": null,
   "input_path": "__notebook__.ipynb",
   "output_path": "__notebook__.ipynb",
   "parameters": {},
   "start_time": "2023-10-26T17:51:23.786200",
   "version": "2.4.0"
  }
 },
 "nbformat": 4,
 "nbformat_minor": 5
}
